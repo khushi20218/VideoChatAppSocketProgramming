{
 "cells": [
  {
   "cell_type": "code",
   "execution_count": null,
   "metadata": {},
   "outputs": [],
   "source": [
    "#############################\n",
    "import cv2\n",
    "import numpy as np\n",
    "import socket\n",
    "import sys\n",
    "import pickle\n",
    "import struct\n",
    "\n",
    "video = cv2.VideoCapture(0, cv2.CAP_DSHOW)\n",
    "clientsocket=socket.socket(socket.AF_INET,socket.SOCK_STREAM)\n",
    "clientsocket.connect(('localhost',8089))\n",
    "data = b''\n",
    "payload_size = struct.calcsize(\"L\")  # unsigned long integer\n",
    "\n",
    "while True:\n",
    "    try:\n",
    "        ####################\n",
    "        ##send client stream\n",
    "        ####################   \n",
    "\n",
    "        ret,frame=video.read()\n",
    "        clientdata = pickle.dumps(frame)\n",
    "        message_size = struct.pack(\"L\", len(clientdata)) \n",
    "        clientsocket.sendall(message_size + clientdata)\n",
    "\n",
    "        ####################\n",
    "        ##rcv server stream\n",
    "        ####################    \n",
    "\n",
    "        while len(data) < payload_size:\n",
    "            data += clientsocket.recv(4096)\n",
    "\n",
    "        packed_msg_size = data[:payload_size]\n",
    "        data = data[payload_size:]\n",
    "        msg_size = struct.unpack(\"L\", packed_msg_size)[0] \n",
    "\n",
    "        while len(data) < msg_size:\n",
    "            data += clientsocket.recv(4096)\n",
    "\n",
    "        frame_data = data[:msg_size]\n",
    "        data = data[msg_size:]\n",
    "\n",
    "        frame = pickle.loads(frame_data)\n",
    "        cv2.imshow('receiver_frame', frame)\n",
    "\n",
    "        if cv2.waitKey(1) == 27:\n",
    "            print(\"you closed\")\n",
    "            clientsocket.shutdown(2)    \n",
    "            clientsocket.close()\n",
    "            cv2.destroyAllWindows()\n",
    "            break\n",
    "    except :\n",
    "        cv2.destroyAllWindows()\n",
    "        print(\"other person closed\")     \n",
    "        break    \n",
    "video.release()"
   ]
  }
 ],
 "metadata": {
  "kernelspec": {
   "display_name": "Python 3",
   "language": "python",
   "name": "python3"
  },
  "language_info": {
   "codemirror_mode": {
    "name": "ipython",
    "version": 3
   },
   "file_extension": ".py",
   "mimetype": "text/x-python",
   "name": "python",
   "nbconvert_exporter": "python",
   "pygments_lexer": "ipython3",
   "version": "3.7.6"
  }
 },
 "nbformat": 4,
 "nbformat_minor": 4
}
